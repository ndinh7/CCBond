{
 "cells": [
  {
   "cell_type": "code",
   "execution_count": 1,
   "metadata": {},
   "outputs": [],
   "source": [
    "import pandas as pd\n",
    "import numpy as np\n",
    "import matplotlib.pyplot as plt\n",
    "import matplotlib as mpl\n",
    "mpl.rcParams['figure.dpi'] = 250"
   ]
  },
  {
   "cell_type": "code",
   "execution_count": 2,
   "metadata": {},
   "outputs": [
    {
     "name": "stdout",
     "output_type": "stream",
     "text": [
      "Alpha_Keto_Output.csv              Untitled.ipynb\r\n",
      "MenD_Classifier.ipynb              substrate_selection_mordred.ipynb\r\n",
      "Product_LogP.ipynb                 zinc_alpha_keto_acids.smi\r\n",
      "\u001b[34mRT_model\u001b[m\u001b[m/\r\n"
     ]
    }
   ],
   "source": [
    "ls"
   ]
  },
  {
   "cell_type": "code",
   "execution_count": 3,
   "metadata": {},
   "outputs": [
    {
     "data": {
      "text/html": [
       "<div>\n",
       "<style scoped>\n",
       "    .dataframe tbody tr th:only-of-type {\n",
       "        vertical-align: middle;\n",
       "    }\n",
       "\n",
       "    .dataframe tbody tr th {\n",
       "        vertical-align: top;\n",
       "    }\n",
       "\n",
       "    .dataframe thead th {\n",
       "        text-align: right;\n",
       "    }\n",
       "</style>\n",
       "<table border=\"1\" class=\"dataframe\">\n",
       "  <thead>\n",
       "    <tr style=\"text-align: right;\">\n",
       "      <th></th>\n",
       "      <th>Index</th>\n",
       "      <th>Reactant_1_SMILES</th>\n",
       "      <th>Reactant_1_Name</th>\n",
       "      <th>Reactant_1_Monoisotopic_Mass</th>\n",
       "      <th>Reactant_2_SMILES</th>\n",
       "      <th>Reactant_2_Name</th>\n",
       "      <th>Reactant_2_Monoisotopic_Mass</th>\n",
       "      <th>Intermediates</th>\n",
       "      <th>Intermediates_Monoisotopic_Mass</th>\n",
       "      <th>Final_Product</th>\n",
       "      <th>CO2_Fall_Off_Intermediate</th>\n",
       "      <th>CO2_Fall_Off_Intermediate_Monoisotopic_Mass</th>\n",
       "    </tr>\n",
       "  </thead>\n",
       "  <tbody>\n",
       "    <tr>\n",
       "      <th>0</th>\n",
       "      <td>0</td>\n",
       "      <td>CSCCC(=O)C(=O)O</td>\n",
       "      <td>Alpha-keto-gamma-(methylthio)butyrate acid sod...</td>\n",
       "      <td>148.0194</td>\n",
       "      <td>CSCCC(=O)C(=O)O</td>\n",
       "      <td>Alpha-keto-gamma-(methylthio)butyrate acid sod...</td>\n",
       "      <td>148.0194</td>\n",
       "      <td>CSCCC(=O)C(O)(CCSC)C(=O)O</td>\n",
       "      <td>252.0490</td>\n",
       "      <td>CSCCCCCCSC</td>\n",
       "      <td>CSCCC(=O)C(O)CCSC</td>\n",
       "      <td>208.0592</td>\n",
       "    </tr>\n",
       "    <tr>\n",
       "      <th>1</th>\n",
       "      <td>1</td>\n",
       "      <td>CSCCC(=O)C(=O)O</td>\n",
       "      <td>Alpha-keto-gamma-(methylthio)butyrate acid sod...</td>\n",
       "      <td>148.0194</td>\n",
       "      <td>O=C(O)C(=O)Cc1ccc(O)cc1</td>\n",
       "      <td>4-hydroxyphenylpyruvic acid</td>\n",
       "      <td>180.0423</td>\n",
       "      <td>CSCCC(=O)C(O)(Cc1ccc(O)cc1)C(=O)O;CSCCC(O)(C(=...</td>\n",
       "      <td>284.0718</td>\n",
       "      <td>CSCCCCCc1ccc(O)cc1</td>\n",
       "      <td>CSCCC(O)C(=O)Cc1ccc(O)cc1;CSCCC(=O)C(O)Cc1ccc(...</td>\n",
       "      <td>240.0820</td>\n",
       "    </tr>\n",
       "    <tr>\n",
       "      <th>2</th>\n",
       "      <td>2</td>\n",
       "      <td>CSCCC(=O)C(=O)O</td>\n",
       "      <td>Alpha-keto-gamma-(methylthio)butyrate acid sod...</td>\n",
       "      <td>148.0194</td>\n",
       "      <td>CCCCCCC(=O)C(=O)O</td>\n",
       "      <td>2-oxooctanoic acid</td>\n",
       "      <td>158.0943</td>\n",
       "      <td>CCCCCCC(O)(C(=O)O)C(=O)CCSC;CCCCCCC(=O)C(O)(CC...</td>\n",
       "      <td>262.1239</td>\n",
       "      <td>CCCCCCCCCCSC</td>\n",
       "      <td>CCCCCCC(=O)C(O)CCSC;CCCCCCC(O)C(=O)CCSC</td>\n",
       "      <td>218.1341</td>\n",
       "    </tr>\n",
       "    <tr>\n",
       "      <th>3</th>\n",
       "      <td>3</td>\n",
       "      <td>CSCCC(=O)C(=O)O</td>\n",
       "      <td>Alpha-keto-gamma-(methylthio)butyrate acid sod...</td>\n",
       "      <td>148.0194</td>\n",
       "      <td>O=C(O)C(=O)Cc1cnc[nH]1</td>\n",
       "      <td>Imidazolepyruvic acid hydrobromide hydrate</td>\n",
       "      <td>154.0378</td>\n",
       "      <td>CSCCC(=O)C(O)(Cc1cnc[nH]1)C(=O)O;CSCCC(O)(C(=O...</td>\n",
       "      <td>258.0674</td>\n",
       "      <td>CSCCCCCc1cnc[nH]1</td>\n",
       "      <td>CSCCC(O)C(=O)Cc1cnc[nH]1;CSCCC(=O)C(O)Cc1cnc[nH]1</td>\n",
       "      <td>214.0776</td>\n",
       "    </tr>\n",
       "    <tr>\n",
       "      <th>4</th>\n",
       "      <td>4</td>\n",
       "      <td>CSCCC(=O)C(=O)O</td>\n",
       "      <td>Alpha-keto-gamma-(methylthio)butyrate acid sod...</td>\n",
       "      <td>148.0194</td>\n",
       "      <td>O=C(O)CCCC(=O)C(=O)O</td>\n",
       "      <td>2-oxoadipic acid</td>\n",
       "      <td>160.0372</td>\n",
       "      <td>CSCCC(=O)C(O)(CCCC(=O)O)C(=O)O;CSCCC(O)(C(=O)O...</td>\n",
       "      <td>264.0668</td>\n",
       "      <td>CSCCCCCCCC(=O)O</td>\n",
       "      <td>CSCCC(=O)C(O)CCCC(=O)O;CSCCC(O)C(=O)CCCC(=O)O</td>\n",
       "      <td>220.0769</td>\n",
       "    </tr>\n",
       "  </tbody>\n",
       "</table>\n",
       "</div>"
      ],
      "text/plain": [
       "   Index Reactant_1_SMILES                                    Reactant_1_Name  \\\n",
       "0      0   CSCCC(=O)C(=O)O  Alpha-keto-gamma-(methylthio)butyrate acid sod...   \n",
       "1      1   CSCCC(=O)C(=O)O  Alpha-keto-gamma-(methylthio)butyrate acid sod...   \n",
       "2      2   CSCCC(=O)C(=O)O  Alpha-keto-gamma-(methylthio)butyrate acid sod...   \n",
       "3      3   CSCCC(=O)C(=O)O  Alpha-keto-gamma-(methylthio)butyrate acid sod...   \n",
       "4      4   CSCCC(=O)C(=O)O  Alpha-keto-gamma-(methylthio)butyrate acid sod...   \n",
       "\n",
       "   Reactant_1_Monoisotopic_Mass        Reactant_2_SMILES  \\\n",
       "0                      148.0194          CSCCC(=O)C(=O)O   \n",
       "1                      148.0194  O=C(O)C(=O)Cc1ccc(O)cc1   \n",
       "2                      148.0194        CCCCCCC(=O)C(=O)O   \n",
       "3                      148.0194   O=C(O)C(=O)Cc1cnc[nH]1   \n",
       "4                      148.0194     O=C(O)CCCC(=O)C(=O)O   \n",
       "\n",
       "                                     Reactant_2_Name  \\\n",
       "0  Alpha-keto-gamma-(methylthio)butyrate acid sod...   \n",
       "1                        4-hydroxyphenylpyruvic acid   \n",
       "2                                 2-oxooctanoic acid   \n",
       "3         Imidazolepyruvic acid hydrobromide hydrate   \n",
       "4                                   2-oxoadipic acid   \n",
       "\n",
       "   Reactant_2_Monoisotopic_Mass  \\\n",
       "0                      148.0194   \n",
       "1                      180.0423   \n",
       "2                      158.0943   \n",
       "3                      154.0378   \n",
       "4                      160.0372   \n",
       "\n",
       "                                       Intermediates  \\\n",
       "0                          CSCCC(=O)C(O)(CCSC)C(=O)O   \n",
       "1  CSCCC(=O)C(O)(Cc1ccc(O)cc1)C(=O)O;CSCCC(O)(C(=...   \n",
       "2  CCCCCCC(O)(C(=O)O)C(=O)CCSC;CCCCCCC(=O)C(O)(CC...   \n",
       "3  CSCCC(=O)C(O)(Cc1cnc[nH]1)C(=O)O;CSCCC(O)(C(=O...   \n",
       "4  CSCCC(=O)C(O)(CCCC(=O)O)C(=O)O;CSCCC(O)(C(=O)O...   \n",
       "\n",
       "   Intermediates_Monoisotopic_Mass       Final_Product  \\\n",
       "0                         252.0490          CSCCCCCCSC   \n",
       "1                         284.0718  CSCCCCCc1ccc(O)cc1   \n",
       "2                         262.1239        CCCCCCCCCCSC   \n",
       "3                         258.0674   CSCCCCCc1cnc[nH]1   \n",
       "4                         264.0668     CSCCCCCCCC(=O)O   \n",
       "\n",
       "                           CO2_Fall_Off_Intermediate  \\\n",
       "0                                  CSCCC(=O)C(O)CCSC   \n",
       "1  CSCCC(O)C(=O)Cc1ccc(O)cc1;CSCCC(=O)C(O)Cc1ccc(...   \n",
       "2            CCCCCCC(=O)C(O)CCSC;CCCCCCC(O)C(=O)CCSC   \n",
       "3  CSCCC(O)C(=O)Cc1cnc[nH]1;CSCCC(=O)C(O)Cc1cnc[nH]1   \n",
       "4      CSCCC(=O)C(O)CCCC(=O)O;CSCCC(O)C(=O)CCCC(=O)O   \n",
       "\n",
       "   CO2_Fall_Off_Intermediate_Monoisotopic_Mass  \n",
       "0                                     208.0592  \n",
       "1                                     240.0820  \n",
       "2                                     218.1341  \n",
       "3                                     214.0776  \n",
       "4                                     220.0769  "
      ]
     },
     "execution_count": 3,
     "metadata": {},
     "output_type": "execute_result"
    }
   ],
   "source": [
    "reactions = pd.read_csv('Alpha_Keto_Output.csv')\n",
    "reactions.head()"
   ]
  },
  {
   "cell_type": "code",
   "execution_count": 5,
   "metadata": {},
   "outputs": [],
   "source": [
    "substrates = reactions.loc[:,\"Reactant_1_SMILES\":\"Reactant_1_Monoisotopic_Mass\"]\n",
    "substrates.sort_values(\"Reactant_1_Monoisotopic_Mass\", inplace = True)\n",
    "substrates.drop_duplicates(subset =\"Reactant_1_Name\", keep = 'first' , inplace = True) \n",
    "substrates.index=range(len(substrates))\n",
    "substrates.rename(columns = {\"Reactant_1_SMILES\":'SMILES',\"Reactant_1_Name\":\"name\", \"Reactant_1_Monoisotopic_Mass\":\"mass\"}, inplace = True)\n",
    "substrate_masses = substrates.loc[:,'mass']"
   ]
  },
  {
   "cell_type": "code",
   "execution_count": 23,
   "metadata": {},
   "outputs": [],
   "source": [
    "all_masses = np.concatenate((substrate_masses.values, reactions.loc[:,'CO2_Fall_Off_Intermediate_Monoisotopic_Mass'].values, reactions.loc[:,'Intermediates_Monoisotopic_Mass'].values), axis=0)"
   ]
  },
  {
   "cell_type": "code",
   "execution_count": 25,
   "metadata": {},
   "outputs": [
    {
     "data": {
      "text/plain": [
       "960"
      ]
     },
     "execution_count": 25,
     "metadata": {},
     "output_type": "execute_result"
    }
   ],
   "source": [
    "len(all_masses)"
   ]
  },
  {
   "cell_type": "code",
   "execution_count": 28,
   "metadata": {},
   "outputs": [
    {
     "ename": "TypeError",
     "evalue": "bar() missing 1 required positional argument: 'height'",
     "output_type": "error",
     "traceback": [
      "\u001b[0;31m---------------------------------------------------------------------------\u001b[0m",
      "\u001b[0;31mTypeError\u001b[0m                                 Traceback (most recent call last)",
      "\u001b[0;32m<ipython-input-28-c758ce9f5cb2>\u001b[0m in \u001b[0;36m<module>\u001b[0;34m\u001b[0m\n\u001b[0;32m----> 1\u001b[0;31m \u001b[0mplt\u001b[0m\u001b[0;34m.\u001b[0m\u001b[0mbar\u001b[0m\u001b[0;34m(\u001b[0m\u001b[0mall_masses\u001b[0m\u001b[0;34m)\u001b[0m\u001b[0;34m\u001b[0m\u001b[0;34m\u001b[0m\u001b[0m\n\u001b[0m",
      "\u001b[0;31mTypeError\u001b[0m: bar() missing 1 required positional argument: 'height'"
     ]
    }
   ],
   "source": [
    "plt.bar(all_masses)"
   ]
  },
  {
   "cell_type": "code",
   "execution_count": 36,
   "metadata": {},
   "outputs": [
    {
     "data": {
      "text/plain": [
       "694"
      ]
     },
     "execution_count": 36,
     "metadata": {},
     "output_type": "execute_result"
    }
   ],
   "source": [
    "unique_masses = pd.DataFrame(all_masses).drop_duplicates(keep = 'first')\n",
    "len(unique_masses)"
   ]
  },
  {
   "cell_type": "code",
   "execution_count": 39,
   "metadata": {},
   "outputs": [],
   "source": [
    "counts = pd.Series(all_masses).value_counts()"
   ]
  },
  {
   "cell_type": "code",
   "execution_count": 45,
   "metadata": {},
   "outputs": [
    {
     "data": {
      "text/html": [
       "<div>\n",
       "<style scoped>\n",
       "    .dataframe tbody tr th:only-of-type {\n",
       "        vertical-align: middle;\n",
       "    }\n",
       "\n",
       "    .dataframe tbody tr th {\n",
       "        vertical-align: top;\n",
       "    }\n",
       "\n",
       "    .dataframe thead th {\n",
       "        text-align: right;\n",
       "    }\n",
       "</style>\n",
       "<table border=\"1\" class=\"dataframe\">\n",
       "  <thead>\n",
       "    <tr style=\"text-align: right;\">\n",
       "      <th></th>\n",
       "      <th>0</th>\n",
       "    </tr>\n",
       "  </thead>\n",
       "  <tbody>\n",
       "    <tr>\n",
       "      <th>174.0892</th>\n",
       "      <td>9</td>\n",
       "    </tr>\n",
       "    <tr>\n",
       "      <th>216.1362</th>\n",
       "      <td>9</td>\n",
       "    </tr>\n",
       "    <tr>\n",
       "      <th>202.1205</th>\n",
       "      <td>9</td>\n",
       "    </tr>\n",
       "    <tr>\n",
       "      <th>188.1049</th>\n",
       "      <td>9</td>\n",
       "    </tr>\n",
       "    <tr>\n",
       "      <th>236.1049</th>\n",
       "      <td>7</td>\n",
       "    </tr>\n",
       "    <tr>\n",
       "      <th>...</th>\n",
       "      <td>...</td>\n",
       "    </tr>\n",
       "    <tr>\n",
       "      <th>206.0427</th>\n",
       "      <td>1</td>\n",
       "    </tr>\n",
       "    <tr>\n",
       "      <th>248.0896</th>\n",
       "      <td>1</td>\n",
       "    </tr>\n",
       "    <tr>\n",
       "      <th>372.1144</th>\n",
       "      <td>1</td>\n",
       "    </tr>\n",
       "    <tr>\n",
       "      <th>369.1246</th>\n",
       "      <td>1</td>\n",
       "    </tr>\n",
       "    <tr>\n",
       "      <th>294.1467</th>\n",
       "      <td>1</td>\n",
       "    </tr>\n",
       "  </tbody>\n",
       "</table>\n",
       "<p>694 rows × 1 columns</p>\n",
       "</div>"
      ],
      "text/plain": [
       "          0\n",
       "174.0892  9\n",
       "216.1362  9\n",
       "202.1205  9\n",
       "188.1049  9\n",
       "236.1049  7\n",
       "...      ..\n",
       "206.0427  1\n",
       "248.0896  1\n",
       "372.1144  1\n",
       "369.1246  1\n",
       "294.1467  1\n",
       "\n",
       "[694 rows x 1 columns]"
      ]
     },
     "execution_count": 45,
     "metadata": {},
     "output_type": "execute_result"
    }
   ],
   "source": [
    "pd.DataFrame(counts)"
   ]
  },
  {
   "cell_type": "code",
   "execution_count": 48,
   "metadata": {},
   "outputs": [
    {
     "data": {
      "text/plain": [
       "Text(0.5, 1.0, 'Total Number of Isobaric Species in All Reactions')"
      ]
     },
     "execution_count": 48,
     "metadata": {},
     "output_type": "execute_result"
    },
    {
     "data": {
      "image/png": "[encoded data removed]",
      "text/plain": [
       "<Figure size 1500x1000 with 1 Axes>"
      ]
     },
     "metadata": {
      "needs_background": "light"
     },
     "output_type": "display_data"
    }
   ],
   "source": [
    "plt.bar(pd.DataFrame(counts).index, pd.DataFrame(counts)[0])\n",
    "plt.xlabel('Monoisotopic Mass (Da)')\n",
    "plt.ylabel('Number of Species')\n",
    "plt.title('Total Number of Isobaric Species in All Reactions')"
   ]
  },
  {
   "cell_type": "code",
   "execution_count": null,
   "metadata": {},
   "outputs": [],
   "source": []
  }
 ],
 "metadata": {
  "kernelspec": {
   "display_name": "Python 3",
   "language": "python",
   "name": "python3"
  },
  "language_info": {
   "codemirror_mode": {
    "name": "ipython",
    "version": 3
   },
   "file_extension": ".py",
   "mimetype": "text/x-python",
   "name": "python",
   "nbconvert_exporter": "python",
   "pygments_lexer": "ipython3",
   "version": "3.7.6"
  }
 },
 "nbformat": 4,
 "nbformat_minor": 4
}
