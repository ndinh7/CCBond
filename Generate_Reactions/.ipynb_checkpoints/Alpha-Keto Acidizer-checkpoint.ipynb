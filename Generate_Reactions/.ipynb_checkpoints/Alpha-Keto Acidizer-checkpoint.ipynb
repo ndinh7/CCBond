{
 "cells": [
  {
   "cell_type": "code",
   "execution_count": 2,
   "metadata": {
    "scrolled": true
   },
   "outputs": [],
   "source": [
    "import rdkit\n",
    "import pandas as pd\n",
    "import json\n",
    "import requests\n",
    "from rdkit.Chem import AllChem as Chem\n",
    "import itertools\n",
    "import matplotlib.pyplot as plt\n",
    "%matplotlib inline"
   ]
  },
  {
   "cell_type": "markdown",
   "metadata": {},
   "source": [
    "Input Variables Below"
   ]
  },
  {
   "cell_type": "code",
   "execution_count": 40,
   "metadata": {
    "scrolled": true
   },
   "outputs": [],
   "source": [
    "#2-oxovaleric acid\n",
    "mol1 = 'CCCC(=O)C(=O)O'\n",
    "\n",
    "#trimethylpyruvic acid\n",
    "mol2 = 'CC(C)(C)C(=O)C(=O)O' \n",
    "\n",
    "# This SMARTS does the carboligation of the two alpha-keto acids - it's a really long string\n",
    "# I messed with the notation of this a bit, make sure it still works\n",
    "#rule1 = '[#6:1](=[#8:2])[#6:3](=[#8:4])[#8:5].[#6:6](=[#8:7])[#6:8](=[#8:9])[#8:10]>>[C:3](=[O:4])=[O:5].[O:2]=[C:1][C:6]([O:7])[C:8](=[O:9])[O:10]'\n",
    "rule1 = '[#6:1](=[#8:2])[#6:3](=[#8:4])[#8:5].[#6:6](=[#8:7])[#6:8](=[#8:9])[#8:10]>>[O:2]=[C:1][C:6]([O:7])[C:8](=[O:9])[O:10]'\n",
    "\n",
    "\n",
    "# This SMARTS does the conversion from the intermediate to the final product\n",
    "rule2 = '[O:2]=[C:1][C:6]([O:7])[C:8](=[O:9])[O:10]>>[C:1][C:6]'"
   ]
  },
  {
   "cell_type": "markdown",
   "metadata": {},
   "source": [
    "Convert SMILES to Mol Object"
   ]
  },
  {
   "cell_type": "code",
   "execution_count": 8,
   "metadata": {},
   "outputs": [],
   "source": [
    "def make_mol(smiles):\n",
    "    molecule = Chem.MolFromSmiles(smiles)\n",
    "    return molecule"
   ]
  },
  {
   "cell_type": "markdown",
   "metadata": {},
   "source": [
    "Convert Mol Object to SMILES"
   ]
  },
  {
   "cell_type": "code",
   "execution_count": 9,
   "metadata": {},
   "outputs": [],
   "source": [
    "def make_smiles(mol):\n",
    "    smiles = Chem.MolToSmiles(mol)\n",
    "    return smiles"
   ]
  },
  {
   "cell_type": "markdown",
   "metadata": {},
   "source": [
    "Run Chemical Reaction 1"
   ]
  },
  {
   "cell_type": "code",
   "execution_count": 10,
   "metadata": {},
   "outputs": [],
   "source": [
    "# rule must be in SMARTS form\n",
    "# molecules must be SMILES\n",
    "def run_reaction_1(reactant1,reactant2,rule):\n",
    "    #takes in reactants 1&2 in SMILES form and converts them to mol objects\n",
    "    mol_reactant_1 = make_mol(reactant1)\n",
    "    mol_reactant_2 = make_mol(reactant2)\n",
    "    \n",
    "    #then it turns both of these mol objects into a tuple, as this is what 'RunReactants requires'\n",
    "    react_tuple = (mol_reactant_1,mol_reactant_2)\n",
    "    reaction = Chem.ReactionFromSmarts(rule)\n",
    "    \n",
    "    output = reaction.RunReactants(react_tuple)\n",
    "    \n",
    "    return_list = []\n",
    "    \n",
    "    for each_rxn in output:\n",
    "        for each_product in each_rxn:\n",
    "            return_list.append(Chem.MolToSmiles(each_product))\n",
    "    return return_list"
   ]
  },
  {
   "cell_type": "markdown",
   "metadata": {},
   "source": [
    "Run Chemical Reaction 2 - This is refactored run_reaction_1"
   ]
  },
  {
   "cell_type": "code",
   "execution_count": 11,
   "metadata": {},
   "outputs": [],
   "source": [
    "def run_reaction_2(reactant,rule):\n",
    "    #takes in reactants 1&2 in SMILES form and converts them to mol objects\n",
    "    \n",
    "    mol_reactant_1 = make_mol(reactant)\n",
    "    \n",
    "    #then it turns both of these mol objects into a tuple, as this is what 'RunReactants requires'\n",
    "    react_tuple = (mol_reactant_1,)\n",
    "    reaction = Chem.ReactionFromSmarts(rule)\n",
    "    \n",
    "    output = reaction.RunReactants(react_tuple)\n",
    "    \n",
    "    #return_list = []\n",
    "    \n",
    "    for each_rxn in output:\n",
    "        for each_product in each_rxn:\n",
    "            return Chem.MolToSmiles(each_product)\n",
    "            #return_list.append(Chem.MolToSmiles(each_product))\n",
    "    #return return_list"
   ]
  },
  {
   "cell_type": "code",
   "execution_count": 12,
   "metadata": {},
   "outputs": [],
   "source": [
    "# WHERE I LEFT OFF - LET'S TRY TO GET THIS FUNCTIONING FOR BOTH THE FIRST AND SECOND REACTION"
   ]
  },
  {
   "cell_type": "code",
   "execution_count": 13,
   "metadata": {
    "scrolled": true
   },
   "outputs": [
    {
     "ename": "NameError",
     "evalue": "name 'mol1' is not defined",
     "output_type": "error",
     "traceback": [
      "\u001b[0;31m---------------------------------------------------------------------------\u001b[0m",
      "\u001b[0;31mNameError\u001b[0m                                 Traceback (most recent call last)",
      "\u001b[0;32m<ipython-input-13-77d1066a5edf>\u001b[0m in \u001b[0;36m<module>\u001b[0;34m\u001b[0m\n\u001b[1;32m      7\u001b[0m     \u001b[0mprint\u001b[0m\u001b[0;34m(\u001b[0m\u001b[0mfinal_product\u001b[0m\u001b[0;34m)\u001b[0m\u001b[0;34m\u001b[0m\u001b[0;34m\u001b[0m\u001b[0m\n\u001b[1;32m      8\u001b[0m \u001b[0;34m\u001b[0m\u001b[0m\n\u001b[0;32m----> 9\u001b[0;31m \u001b[0mmain\u001b[0m\u001b[0;34m(\u001b[0m\u001b[0;34m)\u001b[0m\u001b[0;34m\u001b[0m\u001b[0;34m\u001b[0m\u001b[0m\n\u001b[0m",
      "\u001b[0;32m<ipython-input-13-77d1066a5edf>\u001b[0m in \u001b[0;36mmain\u001b[0;34m()\u001b[0m\n\u001b[1;32m      1\u001b[0m \u001b[0;32mdef\u001b[0m \u001b[0mmain\u001b[0m\u001b[0;34m(\u001b[0m\u001b[0;34m)\u001b[0m\u001b[0;34m:\u001b[0m\u001b[0;34m\u001b[0m\u001b[0;34m\u001b[0m\u001b[0m\n\u001b[1;32m      2\u001b[0m     \u001b[0;31m#this runs reaction 1!\u001b[0m\u001b[0;34m\u001b[0m\u001b[0;34m\u001b[0m\u001b[0;34m\u001b[0m\u001b[0m\n\u001b[0;32m----> 3\u001b[0;31m     \u001b[0mintermediate\u001b[0m \u001b[0;34m=\u001b[0m \u001b[0mrun_reaction_1\u001b[0m\u001b[0;34m(\u001b[0m\u001b[0mmol1\u001b[0m\u001b[0;34m,\u001b[0m\u001b[0mmol2\u001b[0m\u001b[0;34m,\u001b[0m\u001b[0mrule1\u001b[0m\u001b[0;34m)\u001b[0m\u001b[0;34m[\u001b[0m\u001b[0;36m1\u001b[0m\u001b[0;34m]\u001b[0m\u001b[0;34m\u001b[0m\u001b[0;34m\u001b[0m\u001b[0m\n\u001b[0m\u001b[1;32m      4\u001b[0m     \u001b[0mprint\u001b[0m\u001b[0;34m(\u001b[0m\u001b[0;34m'Intermediate:'\u001b[0m\u001b[0;34m,\u001b[0m\u001b[0mintermediate\u001b[0m\u001b[0;34m)\u001b[0m\u001b[0;34m\u001b[0m\u001b[0;34m\u001b[0m\u001b[0m\n\u001b[1;32m      5\u001b[0m \u001b[0;34m\u001b[0m\u001b[0m\n",
      "\u001b[0;31mNameError\u001b[0m: name 'mol1' is not defined"
     ]
    }
   ],
   "source": [
    "def main():\n",
    "    #this runs reaction 1!\n",
    "    intermediate = run_reaction_1(mol1,mol2,rule1)[1]\n",
    "    print('Intermediate:',intermediate)\n",
    "    \n",
    "    final_product = run_reaction_2(intermediate,rule2)\n",
    "    print(final_product)\n",
    "    \n",
    "main()"
   ]
  },
  {
   "cell_type": "markdown",
   "metadata": {},
   "source": [
    "Below is a bit of code from  for outputting images http://asteeves.github.io/blog/2015/01/12/molecules-in-rdkit/"
   ]
  },
  {
   "cell_type": "code",
   "execution_count": 25,
   "metadata": {
    "scrolled": false
   },
   "outputs": [
    {
     "data": {
      "image/png": "[encoded data removed]",
      "text/plain": [
       "<rdkit.Chem.rdchem.Mol at 0x1173ffa80>"
      ]
     },
     "execution_count": 25,
     "metadata": {},
     "output_type": "execute_result"
    }
   ],
   "source": [
    "from rdkit.Chem.Draw import IPythonConsole\n",
    "\n",
    "template = Chem.MolFromSmiles('CCCCCCC(O)(C(=O)O)C(=O)CCSC')\n",
    "\n",
    "template"
   ]
  },
  {
   "cell_type": "code",
   "execution_count": 26,
   "metadata": {
    "scrolled": true
   },
   "outputs": [
    {
     "data": {
      "image/png": "[encoded data removed]",
      "text/plain": [
       "<rdkit.Chem.rdchem.Mol at 0x1173ffc10>"
      ]
     },
     "execution_count": 26,
     "metadata": {},
     "output_type": "execute_result"
    }
   ],
   "source": [
    "temp2 = Chem.MolFromSmiles('CCCCCCC(=O)C(O)(CCSC)C(=O)O')\n",
    "temp2"
   ]
  },
  {
   "cell_type": "markdown",
   "metadata": {},
   "source": [
    "Below, let's try to take in a file of Alpha-Keto Acids, do a combinatorial set of each for both reactions, and then output them as a file"
   ]
  },
  {
   "cell_type": "code",
   "execution_count": 20,
   "metadata": {
    "scrolled": true
   },
   "outputs": [
    {
     "name": "stdout",
     "output_type": "stream",
     "text": [
      "Below are results for Reaction 1\n",
      "Rxn 1 CC(C)(C)C(=O)C(=O)O + CC(C)(C)C(=O)C(=O)O = ['O=C=O', 'CC(C)(C)C(=O)C(O)(C(=O)O)C(C)(C)C']\n",
      "Rxn 2 CC(C)(C)C(=O)C(=O)O + CCC(C)C(=O)C(=O)O = ['O=C=O', 'CCC(C)C(O)(C(=O)O)C(=O)C(C)(C)C']\n",
      "Rxn 3 CC(C)(C)C(=O)C(=O)O + CCC(=O)C(=O)O = ['O=C=O', 'CCC(O)(C(=O)O)C(=O)C(C)(C)C']\n",
      "Rxn 4 CC(C)(C)C(=O)C(=O)O + CCCC(=O)C(=O)O = ['O=C=O', 'CCCC(O)(C(=O)O)C(=O)C(C)(C)C']\n",
      "Rxn 5 CCC(C)C(=O)C(=O)O + CC(C)(C)C(=O)C(=O)O = ['O=C=O', 'CCC(C)C(=O)C(O)(C(=O)O)C(C)(C)C']\n",
      "Rxn 6 CCC(C)C(=O)C(=O)O + CCC(C)C(=O)C(=O)O = ['O=C=O', 'CCC(C)C(=O)C(O)(C(=O)O)C(C)CC']\n",
      "Rxn 7 CCC(C)C(=O)C(=O)O + CCC(=O)C(=O)O = ['O=C=O', 'CCC(C)C(=O)C(O)(CC)C(=O)O']\n",
      "Rxn 8 CCC(C)C(=O)C(=O)O + CCCC(=O)C(=O)O = ['O=C=O', 'CCCC(O)(C(=O)O)C(=O)C(C)CC']\n",
      "Rxn 9 CCC(=O)C(=O)O + CC(C)(C)C(=O)C(=O)O = ['O=C=O', 'CCC(=O)C(O)(C(=O)O)C(C)(C)C']\n",
      "Rxn 10 CCC(=O)C(=O)O + CCC(C)C(=O)C(=O)O = ['O=C=O', 'CCC(=O)C(O)(C(=O)O)C(C)CC']\n",
      "Rxn 11 CCC(=O)C(=O)O + CCC(=O)C(=O)O = ['O=C=O', 'CCC(=O)C(O)(CC)C(=O)O']\n",
      "Rxn 12 CCC(=O)C(=O)O + CCCC(=O)C(=O)O = ['O=C=O', 'CCCC(O)(C(=O)O)C(=O)CC']\n",
      "Rxn 13 CCCC(=O)C(=O)O + CC(C)(C)C(=O)C(=O)O = ['O=C=O', 'CCCC(=O)C(O)(C(=O)O)C(C)(C)C']\n",
      "Rxn 14 CCCC(=O)C(=O)O + CCC(C)C(=O)C(=O)O = ['O=C=O', 'CCCC(=O)C(O)(C(=O)O)C(C)CC']\n",
      "Rxn 15 CCCC(=O)C(=O)O + CCC(=O)C(=O)O = ['O=C=O', 'CCCC(=O)C(O)(CC)C(=O)O']\n",
      "Rxn 16 CCCC(=O)C(=O)O + CCCC(=O)C(=O)O = ['O=C=O', 'CCCC(=O)C(O)(CCC)C(=O)O']\n"
     ]
    }
   ],
   "source": [
    "df = pd.read_csv('/Users/grad/Documents/IBiS/Tyo Lab/Alpha_Keto_Acids/Alpha_Keto_Acids.csv')\n",
    "\n",
    "\n",
    "#for i in range(df.shape[0]):\n",
    "    #can switch to df.iloc[i,0] to get the names\n",
    "    #print(df.iloc[i,1])\n",
    "\n",
    "#creates a dataframe for outputting the eventual reactants\n",
    "df2 = pd.DataFrame(columns=['Reactant 1', 'Reactant 2', 'Intermediate', 'Final Product'])\n",
    "\n",
    "#big_counter is for iterating and printing out each individual rxn, useful for printing when testing\n",
    "big_counter = 0\n",
    "\n",
    "#counter is used to index each \n",
    "counter = 0\n",
    "length_of_df = df.shape[0]\n",
    "print('Below are results for Reaction 1')\n",
    "for i in range(length_of_df):\n",
    "    for x in range(length_of_df):\n",
    "        #if next_up > length_of_df:\n",
    "        alpha_keto_1 = df.iloc[i,1]\n",
    "        alpha_keto_2 = df.iloc[x,1]\n",
    "            \n",
    "            #df.loc[big_counter] = ['1','1']\n",
    "            \n",
    "        big_counter += 1\n",
    "\n",
    "        print('Rxn',big_counter,alpha_keto_1,'+',alpha_keto_2,'=',run_reaction_1(alpha_keto_1,alpha_keto_2,rule1))\n",
    "            \n",
    "            \n",
    "            "
   ]
  },
  {
   "cell_type": "code",
   "execution_count": 30,
   "metadata": {
    "scrolled": true
   },
   "outputs": [
    {
     "name": "stdout",
     "output_type": "stream",
     "text": [
      "Below are results for Reaction 1\n",
      "Rxn 1 CC(C)(C)C(=O)C(=O)O + CC(C)(C)C(=O)C(=O)O = ['O=C=O', 'CC(C)(C)C(=O)C(O)(C(=O)O)C(C)(C)C']\n",
      "Rxn 2 CC(C)(C)C(=O)C(=O)O + CCC(C)C(=O)C(=O)O = ['O=C=O', 'CCC(C)C(O)(C(=O)O)C(=O)C(C)(C)C']\n",
      "Rxn 3 CC(C)(C)C(=O)C(=O)O + CCC(=O)C(=O)O = ['O=C=O', 'CCC(O)(C(=O)O)C(=O)C(C)(C)C']\n",
      "Rxn 4 CC(C)(C)C(=O)C(=O)O + CCCC(=O)C(=O)O = ['O=C=O', 'CCCC(O)(C(=O)O)C(=O)C(C)(C)C']\n",
      "Rxn 5 CCC(C)C(=O)C(=O)O + CC(C)(C)C(=O)C(=O)O = ['O=C=O', 'CCC(C)C(=O)C(O)(C(=O)O)C(C)(C)C']\n",
      "Rxn 6 CCC(C)C(=O)C(=O)O + CCC(C)C(=O)C(=O)O = ['O=C=O', 'CCC(C)C(=O)C(O)(C(=O)O)C(C)CC']\n",
      "Rxn 7 CCC(C)C(=O)C(=O)O + CCC(=O)C(=O)O = ['O=C=O', 'CCC(C)C(=O)C(O)(CC)C(=O)O']\n",
      "Rxn 8 CCC(C)C(=O)C(=O)O + CCCC(=O)C(=O)O = ['O=C=O', 'CCCC(O)(C(=O)O)C(=O)C(C)CC']\n",
      "Rxn 9 CCC(=O)C(=O)O + CC(C)(C)C(=O)C(=O)O = ['O=C=O', 'CCC(=O)C(O)(C(=O)O)C(C)(C)C']\n",
      "Rxn 10 CCC(=O)C(=O)O + CCC(C)C(=O)C(=O)O = ['O=C=O', 'CCC(=O)C(O)(C(=O)O)C(C)CC']\n",
      "Rxn 11 CCC(=O)C(=O)O + CCC(=O)C(=O)O = ['O=C=O', 'CCC(=O)C(O)(CC)C(=O)O']\n",
      "Rxn 12 CCC(=O)C(=O)O + CCCC(=O)C(=O)O = ['O=C=O', 'CCCC(O)(C(=O)O)C(=O)CC']\n",
      "Rxn 13 CCCC(=O)C(=O)O + CC(C)(C)C(=O)C(=O)O = ['O=C=O', 'CCCC(=O)C(O)(C(=O)O)C(C)(C)C']\n",
      "Rxn 14 CCCC(=O)C(=O)O + CCC(C)C(=O)C(=O)O = ['O=C=O', 'CCCC(=O)C(O)(C(=O)O)C(C)CC']\n",
      "Rxn 15 CCCC(=O)C(=O)O + CCC(=O)C(=O)O = ['O=C=O', 'CCCC(=O)C(O)(CC)C(=O)O']\n",
      "Rxn 16 CCCC(=O)C(=O)O + CCCC(=O)C(=O)O = ['O=C=O', 'CCCC(=O)C(O)(CCC)C(=O)O']\n"
     ]
    }
   ],
   "source": [
    "df = pd.read_csv('/Users/grad/Documents/IBiS/Tyo Lab/Alpha_Keto_Acids/Alpha_Keto_Acids.csv')\n",
    "\n",
    "df2 = pd.DataFrame(columns=['Reactant 1', 'Reactant 2', 'Intermediate', 'Final Product'])\n",
    "\n",
    "big_counter = 0\n",
    "\n",
    "counter = 0\n",
    "length_of_df = df.shape[0]\n",
    "print('Below are results for Reaction 1')\n",
    "for i in range(length_of_df):\n",
    "    for x in range(length_of_df):\n",
    "        alpha_keto_1 = df.iloc[i,1]\n",
    "        alpha_keto_2 = df.iloc[x,1]\n",
    "            \n",
    "        big_counter += 1\n",
    "\n",
    "        print('Rxn',big_counter,alpha_keto_1,'+',alpha_keto_2,'=',run_reaction_1(alpha_keto_1,alpha_keto_2,rule1))\n",
    "df = pd.read_csv('/Users/grad/Documents/IBiS/Tyo Lab/Alpha_Keto_Acids/Alpha_Keto_Acids.csv')\n",
    "\n",
    "df2 = pd.DataFrame(columns=['Reactant 1', 'Reactant 2', 'Intermediate', 'Final Product'])            "
   ]
  },
  {
   "cell_type": "code",
   "execution_count": 6,
   "metadata": {
    "scrolled": true
   },
   "outputs": [
    {
     "ename": "NameError",
     "evalue": "name 'run_reaction_1' is not defined",
     "output_type": "error",
     "traceback": [
      "\u001b[0;31m---------------------------------------------------------------------------\u001b[0m",
      "\u001b[0;31mNameError\u001b[0m                                 Traceback (most recent call last)",
      "\u001b[0;32m<ipython-input-6-41a9ae0172bd>\u001b[0m in \u001b[0;36m<module>\u001b[0;34m\u001b[0m\n\u001b[1;32m     12\u001b[0m     \u001b[0malpha_keto_2\u001b[0m \u001b[0;34m=\u001b[0m \u001b[0mdf\u001b[0m\u001b[0;34m.\u001b[0m\u001b[0miloc\u001b[0m\u001b[0;34m[\u001b[0m\u001b[0mnum\u001b[0m\u001b[0;34m[\u001b[0m\u001b[0;36m1\u001b[0m\u001b[0;34m]\u001b[0m\u001b[0;34m,\u001b[0m\u001b[0;36m1\u001b[0m\u001b[0;34m]\u001b[0m\u001b[0;34m\u001b[0m\u001b[0;34m\u001b[0m\u001b[0m\n\u001b[1;32m     13\u001b[0m \u001b[0;34m\u001b[0m\u001b[0m\n\u001b[0;32m---> 14\u001b[0;31m     \u001b[0mintermediate\u001b[0m \u001b[0;34m=\u001b[0m \u001b[0mrun_reaction_1\u001b[0m\u001b[0;34m(\u001b[0m\u001b[0malpha_keto_1\u001b[0m\u001b[0;34m,\u001b[0m\u001b[0malpha_keto_2\u001b[0m\u001b[0;34m,\u001b[0m\u001b[0mrule1\u001b[0m\u001b[0;34m)\u001b[0m\u001b[0;34m[\u001b[0m\u001b[0;36m0\u001b[0m\u001b[0;34m]\u001b[0m\u001b[0;34m\u001b[0m\u001b[0;34m\u001b[0m\u001b[0m\n\u001b[0m\u001b[1;32m     15\u001b[0m     \u001b[0mfinal_product\u001b[0m \u001b[0;34m=\u001b[0m \u001b[0mrun_reaction_2\u001b[0m\u001b[0;34m(\u001b[0m\u001b[0mintermediate\u001b[0m\u001b[0;34m,\u001b[0m\u001b[0mrule2\u001b[0m\u001b[0;34m)\u001b[0m\u001b[0;34m\u001b[0m\u001b[0;34m\u001b[0m\u001b[0m\n\u001b[1;32m     16\u001b[0m     \u001b[0mprint\u001b[0m\u001b[0;34m(\u001b[0m\u001b[0mintermediate\u001b[0m\u001b[0;34m,\u001b[0m\u001b[0mfinal_product\u001b[0m\u001b[0;34m)\u001b[0m\u001b[0;34m\u001b[0m\u001b[0;34m\u001b[0m\u001b[0m\n",
      "\u001b[0;31mNameError\u001b[0m: name 'run_reaction_1' is not defined"
     ]
    }
   ],
   "source": [
    "df = pd.read_csv('/Users/grad/Documents/IBiS/Tyo_Lab/Alpha_Keto_Acids/Alpha_Keto_Acids.csv')\n",
    "df2 = pd.DataFrame(columns=['Reactant 1', 'Reactant 2', 'Intermediate', 'Final Product'])\n",
    "\n",
    "iterlist = []\n",
    "for i in range(df.shape[0]):\n",
    "    iterlist.append(i)\n",
    "    \n",
    "counter = 0\n",
    "iterate = itertools.combinations_with_replacement(iterlist, 2)\n",
    "for num in iterate:\n",
    "    alpha_keto_1 = df.iloc[num[0],1]\n",
    "    alpha_keto_2 = df.iloc[num[1],1]\n",
    "    \n",
    "    intermediate = run_reaction_1(alpha_keto_1,alpha_keto_2,rule1)[0]\n",
    "    final_product = run_reaction_2(intermediate,rule2)\n",
    "    print(intermediate,final_product)\n",
    "    \n",
    "    append_me = [alpha_keto_1,alpha_keto_2,intermediate,final_product]\n",
    "    df2.loc[counter] = append_me\n",
    "    counter += 1\n"
   ]
  },
  {
   "cell_type": "code",
   "execution_count": 7,
   "metadata": {
    "scrolled": false
   },
   "outputs": [
    {
     "data": {
      "text/html": [
       "<div>\n",
       "<style scoped>\n",
       "    .dataframe tbody tr th:only-of-type {\n",
       "        vertical-align: middle;\n",
       "    }\n",
       "\n",
       "    .dataframe tbody tr th {\n",
       "        vertical-align: top;\n",
       "    }\n",
       "\n",
       "    .dataframe thead th {\n",
       "        text-align: right;\n",
       "    }\n",
       "</style>\n",
       "<table border=\"1\" class=\"dataframe\">\n",
       "  <thead>\n",
       "    <tr style=\"text-align: right;\">\n",
       "      <th></th>\n",
       "      <th>Reactant 1</th>\n",
       "      <th>Reactant 2</th>\n",
       "      <th>Intermediate</th>\n",
       "      <th>Final Product</th>\n",
       "    </tr>\n",
       "  </thead>\n",
       "  <tbody>\n",
       "  </tbody>\n",
       "</table>\n",
       "</div>"
      ],
      "text/plain": [
       "Empty DataFrame\n",
       "Columns: [Reactant 1, Reactant 2, Intermediate, Final Product]\n",
       "Index: []"
      ]
     },
     "execution_count": 7,
     "metadata": {},
     "output_type": "execute_result"
    }
   ],
   "source": [
    "df2"
   ]
  },
  {
   "cell_type": "markdown",
   "metadata": {},
   "source": [
    "Below here let's try doing a little plotting to see if we can get a good histogram of our distribution\n",
    "\n",
    "We want:\n",
    "#1) To get a distribution of monoisotopic masses in \n",
    "#2) Get a list of \"Unique\" masses\n",
    "#3) Maybe a pie chart of %uniq"
   ]
  },
  {
   "cell_type": "code",
   "execution_count": 4,
   "metadata": {},
   "outputs": [],
   "source": [
    "infile_df = pd.read_csv('/Users/grad/Documents/IBiS/Tyo_Lab/Alpha_Keto_Acids/Alpha_Keto_Output.csv')"
   ]
  },
  {
   "cell_type": "code",
   "execution_count": 8,
   "metadata": {
    "scrolled": false
   },
   "outputs": [
    {
     "data": {
      "image/png": "[encoded data removed]",
      "text/plain": [
       "<Figure size 1080x360 with 1 Axes>"
      ]
     },
     "metadata": {
      "needs_background": "light"
     },
     "output_type": "display_data"
    }
   ],
   "source": [
    "tick_list = list(range(100,351,25))\n",
    "hist_me = infile_df['Intermediates_Monoisotopic_Mass']\n",
    "plt.figure(figsize=(15,5))\n",
    "plt.grid()\n",
    "plt.xticks(tick_list)\n",
    "plt.hist(hist_me,bins=range(int(min(hist_me)),int(max(hist_me)) + 1,1))\n",
    "plt.title('Distribution of C-C Bond Intermediate Monoisotopic Masses')\n",
    "plt.xlabel('Monoisotopic Mass in Da (bin width = 1)')\n",
    "plt.ylabel('Count')\n",
    "plt.show()"
   ]
  },
  {
   "cell_type": "code",
   "execution_count": 110,
   "metadata": {
    "scrolled": true
   },
   "outputs": [
    {
     "name": "stderr",
     "output_type": "stream",
     "text": [
      "No handles with labels found to put in legend.\n"
     ]
    },
    {
     "data": {
      "image/png": "[encoded data removed]",
      "text/plain": [
       "<Figure size 432x288 with 1 Axes>"
      ]
     },
     "metadata": {},
     "output_type": "display_data"
    },
    {
     "data": {
      "text/plain": [
       "<Figure size 432x288 with 0 Axes>"
      ]
     },
     "metadata": {},
     "output_type": "display_data"
    }
   ],
   "source": [
    "infile_df.Intermediates_Monoisotopic_Mass.unique()\n",
    "x = infile_df.Intermediates_Monoisotopic_Mass.duplicated()\n",
    "y = x.value_counts()\n",
    "\n",
    "duplicates = y[0]\n",
    "unique = y[1]\n",
    "total = unique + duplicates\n",
    "\n",
    "plt.pie(y)\n",
    "plt.legend()\n",
    "plt.title('% Unique vs % Duplicate')\n",
    "plt.figure()\n",
    "plt.show()"
   ]
  },
  {
   "cell_type": "markdown",
   "metadata": {},
   "source": [
    "Let's Try to rectreate how I found all of the unique/duplicated values for This"
   ]
  },
  {
   "cell_type": "code",
   "execution_count": 166,
   "metadata": {
    "scrolled": false
   },
   "outputs": [
    {
     "data": {
      "text/plain": [
       "237.984071    1\n",
       "336.157288    1\n",
       "236.032088    1\n",
       "256.069536    1\n",
       "224.068473    1\n",
       "299.090606    1\n",
       "242.042653    1\n",
       "276.063388    1\n",
       "333.121237    1\n",
       "285.984071    1\n",
       "262.123880    1\n",
       "334.095357    1\n",
       "281.973900    1\n",
       "276.084518    1\n",
       "250.068867    1\n",
       "252.084517    1\n",
       "256.092244    1\n",
       "340.167459    1\n",
       "238.008908    1\n",
       "270.089209    1\n",
       "212.068473    1\n",
       "214.045293    1\n",
       "268.076930    1\n",
       "284.071845    1\n",
       "258.085186    1\n",
       "258.067428    1\n",
       "209.952771    1\n",
       "262.141638    1\n",
       "246.035123    1\n",
       "290.090271    1\n",
       "             ..\n",
       "220.076930    1\n",
       "304.115818    1\n",
       "264.084518    1\n",
       "291.074287    1\n",
       "186.013993    1\n",
       "258.035123    1\n",
       "287.863283    1\n",
       "244.040544    1\n",
       "233.068808    1\n",
       "285.063722    1\n",
       "296.089603    1\n",
       "252.066759    1\n",
       "192.045630    1\n",
       "194.057909    1\n",
       "296.108230    1\n",
       "300.099774    1\n",
       "332.147118    1\n",
       "132.042259    1\n",
       "302.126657    1\n",
       "282.073953    1\n",
       "246.052823    1\n",
       "301.978986    1\n",
       "198.064057    1\n",
       "260.068473    1\n",
       "309.100108    1\n",
       "212.079707    1\n",
       "293.072179    1\n",
       "278.040208    1\n",
       "254.061280    1\n",
       "298.116486    1\n",
       "Name: Intermediates_Monoisotopic_Mass, Length: 137, dtype: int64"
      ]
     },
     "execution_count": 166,
     "metadata": {},
     "output_type": "execute_result"
    }
   ],
   "source": [
    "all_intermediate_masses = infile_df.Intermediates_Monoisotopic_Mass\n",
    "dropped_duplicates = all_intermediate_masses.drop_duplicates(keep=False)\n",
    "#remove_zeros = dropped_duplicates.dropna()\n",
    "final_count = dropped_duplicates.value_counts(dropna=True)\n",
    "final_count"
   ]
  },
  {
   "cell_type": "code",
   "execution_count": 105,
   "metadata": {},
   "outputs": [
    {
     "data": {
      "text/plain": [
       "array([252.049001 , 284.0718446, 262.1238802, 258.0674279, 264.0667592,\n",
       "       234.0925801, 246.0173644, 296.1082301, 244.0405445, 206.0612799,\n",
       "       269.9561419, 268.07693  , 220.07693  , 250.0511092, 192.0456299,\n",
       "       292.0980594, 252.0667592, 254.0612799, 293.072179 , 316.0946882,\n",
       "       294.1467238, 290.0902715, 296.0896029, 266.1154237, 278.040208 ,\n",
       "       328.1310737, 276.0633881, 238.0841235, 301.9789856, 300.0997736,\n",
       "       252.0997736, 282.0739528, 224.0684735, 324.120903 , 284.0896029,\n",
       "       286.0841235, 325.0950226, 272.1987594, 268.1423071, 274.1416384,\n",
       "       244.1674592, 256.0922436, 306.1831093, 254.1154237, 216.1361591,\n",
       "       280.0310211, 278.1518092, 230.1518092, 260.1259884, 202.1205091,\n",
       "       302.1729386, 262.1416384, 264.1361591, 303.1470582, 264.0858549,\n",
       "       270.0851862, 240.111007 , 252.0357914, 302.1266571, 250.0589714,\n",
       "       212.0797069, 275.9745689, 274.0953569, 226.0953569, 256.0695361,\n",
       "       198.0640568, 298.1164863, 258.0851862, 260.0797069, 299.0906059,\n",
       "       276.0845175, 246.1103383, 258.0351227, 308.1259884, 256.0583027,\n",
       "       218.0790382, 281.9739002, 280.0946882, 232.0946882, 262.0688674,\n",
       "       204.0633881, 304.1158176, 264.0845175, 266.0790382, 305.0899372,\n",
       "       228.0609435, 226.0841235, 188.104859 , 251.999721 , 250.1205091,\n",
       "       174.0892089, 234.1103383, 236.104859 , 275.115758 , 239.9857279,\n",
       "       290.0765936, 238.0089079, 200.0296434, 263.9245054, 262.0452934,\n",
       "       214.0452934, 244.0194726, 186.0139933, 286.0664228, 246.0351227,\n",
       "       248.0296434, 287.0405424, 340.1674592, 288.0997736, 314.0153711,\n",
       "       312.1361591, 294.1103383, 336.1572885, 296.1259884, 298.1205091,\n",
       "       337.1314081, 236.032088 , 198.0528234, 261.9476854, 260.0684735,\n",
       "       212.0684735, 242.0426527, 184.0371734, 244.0583027, 246.0528234,\n",
       "       285.0637225, 160.0735589, 223.9684209, 222.0892089, 146.0579088,\n",
       "       206.0790382, 208.0735589, 247.0844579, 287.8632829, 285.9840709,\n",
       "       237.9840709, 267.9582501, 209.9527708, 310.0052003, 269.9739002,\n",
       "       271.9684209, 310.9793199, 284.104859 , 268.0946882, 270.0892089,\n",
       "       309.100108 , 220.0946882, 261.100108 , 248.0532173, 190.047738 ,\n",
       "       290.1001675, 250.0688674, 252.0633881, 291.0742871, 132.0422587,\n",
       "       192.0633881, 194.0579088, 233.0688078, 332.1471177, 292.1158176,\n",
       "       333.1212373, 252.0845175, 254.0790382, 293.0899372, 256.0735589,\n",
       "       295.0844579, 334.0953569])"
      ]
     },
     "execution_count": 105,
     "metadata": {},
     "output_type": "execute_result"
    }
   ],
   "source": [
    "infile_df.Intermediates_Monoisotopic_Mass.unique()"
   ]
  },
  {
   "cell_type": "code",
   "execution_count": 4,
   "metadata": {
    "scrolled": false
   },
   "outputs": [
    {
     "data": {
      "text/plain": [
       "0      False\n",
       "1      False\n",
       "2      False\n",
       "3       True\n",
       "4      False\n",
       "5       True\n",
       "6       True\n",
       "7       True\n",
       "8      False\n",
       "9      False\n",
       "10     False\n",
       "11      True\n",
       "12      True\n",
       "13      True\n",
       "14     False\n",
       "15     False\n",
       "16     False\n",
       "17     False\n",
       "18     False\n",
       "19     False\n",
       "20     False\n",
       "21     False\n",
       "22      True\n",
       "23      True\n",
       "24      True\n",
       "25     False\n",
       "26      True\n",
       "27     False\n",
       "28     False\n",
       "29     False\n",
       "       ...  \n",
       "202    False\n",
       "203    False\n",
       "204    False\n",
       "205    False\n",
       "206    False\n",
       "207    False\n",
       "208    False\n",
       "209    False\n",
       "210    False\n",
       "211    False\n",
       "212    False\n",
       "213    False\n",
       "214    False\n",
       "215     True\n",
       "216    False\n",
       "217    False\n",
       "218    False\n",
       "219    False\n",
       "220    False\n",
       "221    False\n",
       "222    False\n",
       "223    False\n",
       "224    False\n",
       "225    False\n",
       "226    False\n",
       "227    False\n",
       "228    False\n",
       "229    False\n",
       "230    False\n",
       "231    False\n",
       "Name: Intermediates_Monoisotopic_Mass, Length: 232, dtype: bool"
      ]
     },
     "execution_count": 4,
     "metadata": {},
     "output_type": "execute_result"
    }
   ],
   "source": [
    "infile_df.Intermediates_Monoisotopic_Mass.duplicated(keep='first')"
   ]
  },
  {
   "cell_type": "markdown",
   "metadata": {},
   "source": [
    "Below is a simplified method for me to just get the correct pie chart"
   ]
  },
  {
   "cell_type": "code",
   "execution_count": 2,
   "metadata": {
    "scrolled": true
   },
   "outputs": [
    {
     "name": "stderr",
     "output_type": "stream",
     "text": [
      "No handles with labels found to put in legend.\n"
     ]
    },
    {
     "data": {
      "image/png": "[encoded data removed]",
      "text/plain": [
       "<Figure size 432x288 with 1 Axes>"
      ]
     },
     "metadata": {},
     "output_type": "display_data"
    },
    {
     "data": {
      "text/plain": [
       "<Figure size 432x288 with 0 Axes>"
      ]
     },
     "metadata": {},
     "output_type": "display_data"
    }
   ],
   "source": [
    "my_tiny_list = [137,94]\n",
    "plt.pie(my_tiny_list)\n",
    "plt.legend()\n",
    "plt.title('% Unique vs % Duplicate')\n",
    "plt.figure()\n",
    "plt.show()"
   ]
  },
  {
   "cell_type": "markdown",
   "metadata": {},
   "source": [
    "Let's try to make a more sophisticated pie chart of all of our duplicates(including triplicates, quadruplicates, etc.)"
   ]
  },
  {
   "cell_type": "code",
   "execution_count": 1,
   "metadata": {},
   "outputs": [
    {
     "ename": "NameError",
     "evalue": "name 'df' is not defined",
     "output_type": "error",
     "traceback": [
      "\u001b[0;31m---------------------------------------------------------------------------\u001b[0m",
      "\u001b[0;31mNameError\u001b[0m                                 Traceback (most recent call last)",
      "\u001b[0;32m<ipython-input-1-c42a15b2c7cf>\u001b[0m in \u001b[0;36m<module>\u001b[0;34m\u001b[0m\n\u001b[0;32m----> 1\u001b[0;31m \u001b[0mdf\u001b[0m\u001b[0;34m.\u001b[0m\u001b[0mhead\u001b[0m\u001b[0;34m(\u001b[0m\u001b[0;34m)\u001b[0m\u001b[0;34m\u001b[0m\u001b[0;34m\u001b[0m\u001b[0m\n\u001b[0m",
      "\u001b[0;31mNameError\u001b[0m: name 'df' is not defined"
     ]
    }
   ],
   "source": [
    "df.head()"
   ]
  },
  {
   "cell_type": "code",
   "execution_count": null,
   "metadata": {},
   "outputs": [],
   "source": []
  }
 ],
 "metadata": {
  "kernelspec": {
   "display_name": "Python 3",
   "language": "python",
   "name": "python3"
  },
  "language_info": {
   "codemirror_mode": {
    "name": "ipython",
    "version": 3
   },
   "file_extension": ".py",
   "mimetype": "text/x-python",
   "name": "python",
   "nbconvert_exporter": "python",
   "pygments_lexer": "ipython3",
   "version": "3.7.6"
  }
 },
 "nbformat": 4,
 "nbformat_minor": 2
}
